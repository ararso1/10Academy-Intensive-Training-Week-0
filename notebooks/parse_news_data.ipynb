{
 "cells": [
  {
   "cell_type": "code",
   "execution_count": null,
   "metadata": {},
   "outputs": [],
   "source": [
    "import pandas as pd\n",
    "\n",
    "# Load the data\n",
    "data_df = pd.read_csv('data.csv')\n",
    "domains_location_df = pd.read_csv('domains_location.csv')\n",
    "traffic_data_df = pd.read_csv('traffic_data.csv')\n",
    "\n",
    "# Merge data.csv with domains_location.csv\n",
    "data_with_location = pd.merge(data_df, domains_location_df, left_on='source_name', right_on='SourceCommonName', how='left')\n",
    "\n",
    "# Merge the result with traffic_data.csv\n",
    "full_data = pd.merge(data_with_location, traffic_data_df, left_on='SourceCommonName', right_on='Domain', how='left')\n",
    "\n",
    "# 1. Websites that have the largest count of news articles\n",
    "article_counts = data_df['source_name'].value_counts()\n",
    "top_10_websites_articles = article_counts.head(10)\n",
    "bottom_10_websites_articles = article_counts.tail(10)\n",
    "\n",
    "# 2. Websites with the highest numbers of visitors traffic\n",
    "# Assuming GlobalRank is an indicator of traffic (lower rank = higher traffic)\n",
    "# We will invert the GlobalRank to get highest traffic\n",
    "traffic_data_df['InvertedGlobalRank'] = -traffic_data_df['GlobalRank']\n",
    "top_10_websites_traffic = traffic_data_df.sort_values(by='InvertedGlobalRank').head(10)[['Domain', 'GlobalRank']]\n",
    "bottom_10_websites_traffic = traffic_data_df.sort_values(by='InvertedGlobalRank').tail(10)[['Domain', 'GlobalRank']]\n",
    "\n",
    "# 3. Countries with the highest number of news media organisations (represented by domains in the data)\n",
    "country_domain_counts = domains_location_df['Country'].value_counts()\n",
    "top_10_countries_domains = country_domain_counts.head(10)\n",
    "bottom_10_countries_domains = country_domain_counts.tail(10)\n",
    "\n",
    "# Display the results\n",
    "print(\"Top 10 Websites by Article Count:\")\n",
    "print(top_10_websites_articles)\n",
    "print(\"\\nBottom 10 Websites by Article Count:\")\n",
    "print(bottom_10_websites_articles)\n",
    "\n",
    "print(\"\\nTop 10 Websites by Visitor Traffic:\")\n",
    "print(top_10_websites_traffic)\n",
    "print(\"\\nBottom 10 Websites by Visitor Traffic:\")\n",
    "print(bottom_10_websites_traffic)\n",
    "\n",
    "print(\"\\nTop 10 Countries by Number of Media Organisations:\")\n",
    "print(top_10_countries_domains)\n",
    "print(\"\\nBottom 10 Countries by Number of Media Organisations:\")\n",
    "print(bottom_10_countries_domains)\n"
   ]
  }
 ],
 "metadata": {
  "kernelspec": {
   "display_name": "Python 3",
   "language": "python",
   "name": "python3"
  },
  "language_info": {
   "codemirror_mode": {
    "name": "ipython",
    "version": 3
   },
   "file_extension": ".py",
   "mimetype": "text/x-python",
   "name": "python",
   "nbconvert_exporter": "python",
   "pygments_lexer": "ipython3",
   "version": "3.10.10"
  }
 },
 "nbformat": 4,
 "nbformat_minor": 4
}
