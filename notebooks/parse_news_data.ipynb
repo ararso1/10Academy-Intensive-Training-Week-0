{
 "cells": [
  {
   "cell_type": "markdown",
   "metadata": {},
   "source": [
    "# Task 1: implementation"
   ]
  },
  {
   "cell_type": "code",
   "execution_count": 18,
   "metadata": {},
   "outputs": [],
   "source": [
    "import pandas as pd\n",
    "import numpy as np\n",
    "from collections import defaultdict\n",
    "import re\n"
   ]
  },
  {
   "cell_type": "markdown",
   "metadata": {},
   "source": [
    "1. Websites that have the largest count of news articles"
   ]
  },
  {
   "cell_type": "code",
   "execution_count": 21,
   "metadata": {},
   "outputs": [
    {
     "name": "stdout",
     "output_type": "stream",
     "text": [
      "Top 10 Websites by Article Count:\n",
      "source_name\n",
      "ETF Daily News        16631\n",
      "The Times of India     7629\n",
      "GlobeNewswire          5485\n",
      "Forbes                 4423\n",
      "Biztoc.com             3968\n",
      "BBC News               3342\n",
      "Globalsecurity.org     3093\n",
      "Business Insider       2746\n",
      "ABC News               2188\n",
      "Marketscreener.com     1948\n",
      "Name: count, dtype: int64\n",
      "\n",
      "Bottom 10 Websites by Article Count:\n",
      "source_name\n",
      "Powerdns.com           1\n",
      "Frame.work             1\n",
      "Dannymekic.com         1\n",
      "Dougwils.com           1\n",
      "Linuxgizmos.com        1\n",
      "Paranatural.net        1\n",
      "Duringquiettime.com    1\n",
      "Askmen.com             1\n",
      "Elementy.ru            1\n",
      "Caltech.edu            1\n",
      "Name: count, dtype: int64\n"
     ]
    }
   ],
   "source": [
    "\n",
    "# Load the data\n",
    "data_df = pd.read_csv('C:\\\\Users\\\\araso\\\\Documents\\\\10academy\\\\data\\\\data.csv')\n",
    "domains_location_df = pd.read_csv('C:\\\\Users\\\\araso\\\\Documents\\\\10academy\\\\data\\\\domains_location.csv')\n",
    "traffic_data_df = pd.read_csv('C:\\\\Users\\\\araso\\\\Documents\\\\10academy\\\\data\\\\traffic.csv')\n",
    "rating_df = pd.read_csv('C:\\\\Users\\\\araso\\\\Documents\\\\10academy\\\\data\\\\rating.csv')\n",
    "\n",
    "# Merge data.csv with domains_location.csv\n",
    "data_with_location = pd.merge(data_df, domains_location_df, left_on='source_name', right_on='SourceCommonName', how='left')\n",
    "\n",
    "# Merge the result with traffic_data.csv\n",
    "full_data = pd.merge(data_with_location, traffic_data_df, left_on='SourceCommonName', right_on='Domain', how='left')\n",
    "\n",
    "# 1. Websites that have the largest count of news articles\n",
    "article_counts = data_df['source_name'].value_counts()\n",
    "top_10_websites_articles = article_counts.head(10)\n",
    "bottom_10_websites_articles = article_counts.tail(10)\n",
    "\n",
    "# Display the results\n",
    "print(\"Top 10 Websites by Article Count:\")\n",
    "print(top_10_websites_articles)\n",
    "print(\"\\nBottom 10 Websites by Article Count:\")\n",
    "print(bottom_10_websites_articles)\n",
    "\n",
    "\n"
   ]
  },
  {
   "cell_type": "markdown",
   "metadata": {},
   "source": [
    "2. Websites with the highest numbers of visitors traffic"
   ]
  },
  {
   "cell_type": "code",
   "execution_count": 22,
   "metadata": {},
   "outputs": [
    {
     "name": "stdout",
     "output_type": "stream",
     "text": [
      "\n",
      "Top 10 Websites by Visitor Traffic:\n",
      "                 Domain  GlobalRank\n",
      "0            google.com           1\n",
      "1          facebook.com           2\n",
      "2           youtube.com           3\n",
      "3           twitter.com           4\n",
      "4         instagram.com           5\n",
      "5          linkedin.com           6\n",
      "6             apple.com           7\n",
      "7         microsoft.com           8\n",
      "8  googletagmanager.com           9\n",
      "9         wikipedia.org          10\n",
      "\n",
      "Bottom 10 Websites by Visitor Traffic:\n",
      "                        Domain  GlobalRank\n",
      "999990            eiretrip.com      999991\n",
      "999991    exploring-africa.com      999992\n",
      "999992                hmag.com      999993\n",
      "999993          irishcycle.com      999994\n",
      "999994         keith-baker.com      999995\n",
      "999995              kireie.com      999996\n",
      "999996             mt-lock.com      999997\n",
      "999997           pinkwater.com      999998\n",
      "999998          soderhomes.com      999999\n",
      "999999  toyotamusicfactory.com     1000000\n"
     ]
    }
   ],
   "source": [
    "# 2. Websites with the highest numbers of visitors traffic\n",
    "top_10_websites_traffic = traffic_data_df.sort_values(by='GlobalRank').head(10)[['Domain', 'GlobalRank']]\n",
    "bottom_10_websites_traffic = traffic_data_df.sort_values(by='GlobalRank').tail(10)[['Domain', 'GlobalRank']]\n",
    "\n",
    "print(\"\\nTop 10 Websites by Visitor Traffic:\")\n",
    "print(top_10_websites_traffic)\n",
    "print(\"\\nBottom 10 Websites by Visitor Traffic:\")\n",
    "print(bottom_10_websites_traffic)"
   ]
  },
  {
   "cell_type": "markdown",
   "metadata": {},
   "source": [
    "3. Countries with the highest number of news media organisations (represented by domains in the data)"
   ]
  },
  {
   "cell_type": "code",
   "execution_count": 23,
   "metadata": {},
   "outputs": [
    {
     "name": "stdout",
     "output_type": "stream",
     "text": [
      "\n",
      "Top 10 Countries by Number of Media Organisations:\n",
      "Country\n",
      "United States     14111\n",
      "United Kingdom     1950\n",
      "Italy              1810\n",
      "France             1041\n",
      "Russia             1024\n",
      "Canada              887\n",
      "Germany             884\n",
      "China               780\n",
      "Turkey              725\n",
      "India               686\n",
      "Name: count, dtype: int64\n",
      "\n",
      "Bottom 10 Countries by Number of Media Organisations:\n",
      "Country\n",
      "American Samoa              1\n",
      "Micronesia                  1\n",
      "Mayotte                     1\n",
      "Isle of Man                 1\n",
      "Guernsey                    1\n",
      "West Bank                   1\n",
      "Pitcairn Islands            1\n",
      "Oceans                      1\n",
      "Turks and Caicos Islands    1\n",
      "Saint Helena                1\n",
      "Name: count, dtype: int64\n"
     ]
    }
   ],
   "source": [
    "# 3. Countries with the highest number of news media organisations (represented by domains in the data)\n",
    "country_domain_counts = domains_location_df['Country'].value_counts()\n",
    "top_10_countries_domains = country_domain_counts.head(10)\n",
    "bottom_10_countries_domains = country_domain_counts.tail(10)\n",
    "\n",
    "print(\"\\nTop 10 Countries by Number of Media Organisations:\")\n",
    "print(top_10_countries_domains)\n",
    "print(\"\\nBottom 10 Countries by Number of Media Organisations:\")\n",
    "print(bottom_10_countries_domains)"
   ]
  },
  {
   "cell_type": "markdown",
   "metadata": {},
   "source": [
    "4. Countries with Many Articles Written About Them"
   ]
  },
  {
   "cell_type": "code",
   "execution_count": 36,
   "metadata": {},
   "outputs": [
    {
     "name": "stdout",
     "output_type": "stream",
     "text": [
      "{'Senegal': np.int64(52), 'France': np.int64(600), 'Italy': np.int64(355), 'Argentina': np.int64(222), 'China': np.int64(1773), 'Germany': np.int64(467), 'Ukraine': np.int64(1289), 'United States': np.int64(1614), 'Russia': np.int64(2089), 'Egypt': np.int64(295), 'India': np.int64(3746), 'Taiwan': np.int64(241), 'United Kingdom': np.int64(190), 'Canada': np.int64(868), 'South Africa': np.int64(540), 'Greece': np.int64(144), 'Netherlands': np.int64(249), 'Chile': np.int64(90), 'Iran': np.int64(1079), 'Cuba': np.int64(114), 'Lithuania': np.int64(113), 'Hungary': np.int64(134), 'Uruguay': np.int64(66), 'Brazil': np.int64(309), 'Switzerland': np.int64(159), 'Armenia': np.int64(224), 'Indonesia': np.int64(282), 'Azerbaijan': np.int64(191), 'Bangladesh': np.int64(185), 'Georgia': np.int64(275), 'Tuvalu': np.int64(10), 'Venezuela': np.int64(131), 'Spain': np.int64(364), 'Latvia': np.int64(78), 'Cameroon': np.int64(58), 'Mexico': np.int64(392), 'United Arab Emirates': np.int64(152), 'Portugal': np.int64(135), 'Kuwait': np.int64(47), 'Bulgaria': np.int64(108), 'Vietnam': np.int64(98), 'Turkey': np.int64(286), 'Benin': np.int64(54), 'Mauritius': np.int64(56), 'Slovak Republic': np.int64(5), 'Kyrgyzstan': np.int64(29), 'Poland': np.int64(239), 'Aruba': np.int64(54), 'Syria': np.int64(177), 'Croatia': np.int64(72), 'Bosnia-Herzegovina': np.int64(10), 'Serbia': np.int64(122), 'Slovenia': np.int64(52), 'Macedonia': np.int64(23), 'Australia': np.int64(1074), 'Ethiopia': np.int64(162), 'Israel': np.int64(4075), 'Nigeria': np.int64(854), 'Kazakhstan': np.int64(147), 'Japan': np.int64(766), 'Keeling Islands': np.int64(0), 'North Korea': np.int64(178), 'Saudi Arabia': np.int64(317), 'New Zealand': np.int64(407), 'Romania': np.int64(125), 'Colombia': np.int64(119), 'Austria': np.int64(93), 'Belarus': np.int64(53), 'Czech Republic': np.int64(37), 'Thailand': np.int64(223), 'Luxembourg': np.int64(63), 'Norway': np.int64(149), 'Yemen': np.int64(119), 'Dominican Republic': np.int64(66), 'Belize': np.int64(19), 'Belgium': np.int64(171), 'Ireland': np.int64(404), 'Guyana': np.int64(42), 'Sweden': np.int64(249), 'British Indian Ocean Territory': np.int64(1), 'Philippines': np.int64(202), 'Somalia': np.int64(69), 'Albania': np.int64(73), 'Finland': np.int64(210), 'Denmark': np.int64(116), 'Mali': np.int64(399), 'Paraguay': np.int64(26), 'Ivory Coast': np.int64(23), 'Malaysia': np.int64(330), 'South Korea': np.int64(254), 'Cyprus': np.int64(94), 'Antigua and Barbuda': np.int64(2), 'Central African Republic': np.int64(23), 'Uganda': np.int64(146), 'Gambia': np.int64(21), 'Montenegro': np.int64(23), 'Democratic Republic of the Congo': np.int64(29), 'Morocco': np.int64(147), 'Peru': np.int64(89), 'Niger': np.int64(1042), 'Sri Lanka': np.int64(195), 'Oman': np.int64(1002), 'Congo': np.int64(170), 'Singapore': np.int64(405), 'Afghanistan': np.int64(245), 'Liberia': np.int64(162), 'Guinea': np.int64(71), 'Angola': np.int64(43), 'Tunisia': np.int64(82), 'Kenya': np.int64(314), 'Sierra Leone': np.int64(29), 'Djibouti': np.int64(10), 'Libya': np.int64(49), 'Guatemala': np.int64(74), 'Gabon': np.int64(50), 'Iraq': np.int64(190), 'Ghana': np.int64(117), 'Burkina Faso': np.int64(32), 'Niue': np.int64(1), 'Estonia': np.int64(157), 'Bahrain': np.int64(52), 'Algeria': np.int64(54), 'Malta': np.int64(54), 'Cambodia': np.int64(81), 'Qatar': np.int64(215), 'Lebanon': np.int64(196), 'Mauritania': np.int64(5), 'Nepal': np.int64(124), 'Jordan': np.int64(319), 'Sudan': np.int64(232), 'Togo': np.int64(6), 'Haiti': np.int64(160), 'Iceland': np.int64(163), 'Trinidad and Tobago': np.int64(3), 'Comoros': np.int64(1), 'Chad': np.int64(125), 'Hong Kong': np.int64(283), 'Costa Rica': np.int64(41), 'Cape Verde': np.int64(3), 'Ecuador': np.int64(66), 'South Georgia and the South Sandwich Islands': np.int64(1), 'Anguilla': np.int64(2), 'Nicaragua': np.int64(27), 'Papua New Guinea': np.int64(27), 'Pakistan': np.int64(416), 'Greenland': np.int64(65), 'El Salvador': np.int64(32), 'Burundi': np.int64(10), 'Bermuda': np.int64(86), 'Panama': np.int64(127), 'Eritrea': np.int64(11), 'French Polynesia': np.int64(1), 'British Virgin Islands': np.int64(7), 'Moldova': np.int64(24), 'Tajikistan': np.int64(21), 'Namibia': np.int64(44), 'Bahamas': np.int64(54), 'Barbados': np.int64(19), 'Bhutan': np.int64(25), 'Jamaica': np.int64(84), 'Guinea-Bissau': np.int64(9), 'Honduras': np.int64(9), 'Mozambique': np.int64(68), 'Myanmar': np.int64(220), 'Bolivia': np.int64(11), 'Martinique': np.int64(3), 'Andorra': np.int64(5), 'Laos': np.int64(12), 'South Sudan': np.int64(39), 'Brunei': np.int64(3), 'Botswana': np.int64(32), 'Kosovo': np.int64(74), 'Zimbabwe': np.int64(117), 'Tanzania': np.int64(52), 'Virgin Islands': np.int64(19), 'American Samoa': np.int64(0), 'Cayman Islands': np.int64(30), 'Gibraltar': np.int64(46), 'Turkmenistan': np.int64(7), 'Reunion': np.int64(23), 'Zambia': np.int64(66), 'New Caledonia': np.int64(1), 'Mongolia': np.int64(44), 'Cook Islands': np.int64(3), 'Suriname': np.int64(5), 'Vatican City': np.int64(11), 'Guadeloupe': np.int64(2), 'Dominica': np.int64(77), 'Uzbekistan': np.int64(66), 'San Marino': np.int64(13), 'Malawi': np.int64(44), 'Fiji': np.int64(106), 'Madagascar': np.int64(24), 'Rwanda': np.int64(113), 'Jersey': np.int64(285), 'Samoa': np.int64(51), 'Micronesia': np.int64(2), 'Macau': np.int64(14), 'Grenada': np.int64(4), 'Montserrat': np.int64(8), 'Swaziland': np.int64(1), 'Saint Vincent and the Grenadines': np.int64(0), 'Faroe Islands': np.int64(3), 'Guam': np.int64(17), 'Maldives': np.int64(105), 'Tokelau': np.int64(1), 'Saint Lucia': np.int64(1), 'Lesotho': np.int64(8), 'Tonga': np.int64(53), 'Isle of Man': np.int64(20), 'Guernsey': np.int64(35), 'Solomon Islands': np.int64(2), 'Sao Tome and Principe': np.int64(0), 'Saint Kitts and Nevis': np.int64(0), 'Liechtenstein': np.int64(4), 'Mayotte': np.int64(2), 'Puerto Rico': np.int64(70), 'East Timor': np.int64(0), 'Monaco': np.int64(52), 'Seychelles': np.int64(84), 'West Bank': np.int64(95), 'Pitcairn Islands': np.int64(0), nan: 0, 'Oceans': np.int64(44), 'Turks and Caicos Islands': np.int64(0), 'Saint Helena': np.int64(1), 'nan': np.int64(4366)}\n",
      "Top 10 Countries by Article Count:\n",
      "           Country  ArticleCount\n",
      "226            nan          4366\n",
      "56          Israel          4075\n",
      "10           India          3746\n",
      "8           Russia          2089\n",
      "4            China          1773\n",
      "7    United States          1614\n",
      "6          Ukraine          1289\n",
      "18            Iran          1079\n",
      "54       Australia          1074\n",
      "99           Niger          1042\n",
      "\n",
      "Bottom 10 Countries by Article Count:\n",
      "                              Country  ArticleCount\n",
      "60                    Keeling Islands             0\n",
      "221                  Pitcairn Islands             0\n",
      "212             Sao Tome and Principe             0\n",
      "222                               NaN             0\n",
      "217                        East Timor             0\n",
      "213             Saint Kitts and Nevis             0\n",
      "224          Turks and Caicos Islands             0\n",
      "175                    American Samoa             0\n",
      "201  Saint Vincent and the Grenadines             0\n",
      "79     British Indian Ocean Territory             1\n"
     ]
    }
   ],
   "source": [
    "# 4. Countries that have many articles written about them\n",
    "# We will check if the country names are mentioned in the article content\n",
    "\n",
    "# List of countries to check in the content\n",
    "countries_list = domains_location_df['Country'].unique()\n",
    "\n",
    "# Initialize a dictionary to count articles per country\n",
    "country_article_count = {country: 0 for country in countries_list}\n",
    "\n",
    "# Count occurrences of each country in the article content\n",
    "for country in countries_list:\n",
    "    country = str(country)\n",
    "    country_article_count[country] = data_df['content'].str.contains(country, case=False, na=False).sum()\n",
    "\n",
    "# Convert dictionary to DataFrame\n",
    "country_article_count_df = pd.DataFrame(list(country_article_count.items()), columns=['Country', 'ArticleCount']).dropna()\n",
    "\n",
    "# Sort by ArticleCount to find the top and bottom 10 countries\n",
    "top_10_countries_articles = country_article_count_df.sort_values(by='ArticleCount', ascending=False).head(10)\n",
    "bottom_10_countries_articles = country_article_count_df.sort_values(by='ArticleCount', ascending=True).head(10)\n",
    "\n",
    "# Display the results\n",
    "print(\"Top 10 Countries by Article Count:\")\n",
    "print(top_10_countries_articles)\n",
    "\n",
    "print(\"\\nBottom 10 Countries by Article Count:\")\n",
    "print(bottom_10_countries_articles)"
   ]
  },
  {
   "cell_type": "markdown",
   "metadata": {},
   "source": [
    "5. Websites that reported about Africa, US, China, EU, Russia, Ukraine, Middle East"
   ]
  },
  {
   "cell_type": "code",
   "execution_count": 37,
   "metadata": {},
   "outputs": [],
   "source": [
    "# 5. Websites that reported about Africa, US, China, EU, Russia, Ukraine, Middle East\n",
    "\n",
    "# Define country groups for each region\n",
    "african_countries = domains_location_df[domains_location_df['location'].isin(['DZ', 'AO', 'BJ', 'BW', 'BF', 'BI', 'CV', 'CM', 'CF', 'TD', 'KM', 'CG', 'CD', 'DJ', 'EG', 'GQ', 'ER', 'SZ', 'ET', 'GA', 'GM', 'GH', 'GN', 'GW', 'KE', 'LS', 'LR', 'LY', 'MG', 'MW', 'ML', 'MR', 'MU', 'YT', 'MA', 'MZ', 'NA', 'NE', 'NG', 'RE', 'RW', 'SH', 'ST', 'SN', 'SC', 'SL', 'SO', 'ZA', 'SS', 'SD', 'TZ', 'TG', 'TN', 'UG', 'EH', 'ZM', 'ZW'])]['SourceCommonName'].unique()\n",
    "\n",
    "eu_countries = domains_location_df[domains_location_df['location'].isin(['AT', 'BE', 'BG', 'HR', 'CY', 'CZ', 'DK', 'EE', 'FI', 'FR', 'DE', 'GR', 'HU', 'IE', 'IT', 'LV', 'LT', 'LU', 'MT', 'NL', 'PL', 'PT', 'RO', 'SK', 'SI', 'ES', 'SE'])]['SourceCommonName'].unique()\n",
    "\n",
    "middle_east_countries = domains_location_df[domains_location_df['location'].isin(['BH', 'EG', 'IR', 'IQ', 'IL', 'JO', 'KW', 'LB', 'OM', 'PS', 'QA', 'SA', 'SY', 'AE', 'YE'])]['SourceCommonName'].unique()\n",
    "\n",
    "# Initialize dictionaries for each region\n",
    "africa_article_count = 0\n",
    "us_article_count = 0\n",
    "china_article_count = 0\n",
    "eu_article_count = 0\n",
    "russia_article_count = 0\n",
    "ukraine_article_count = 0\n",
    "middle_east_article_count = 0\n",
    "\n",
    "# Check occurrences for each region in the article content\n",
    "africa_article_count = data_df['content'].apply(lambda x: any(country in x for country in african_countries)).sum()\n",
    "us_article_count = data_df['content'].str.contains('US', case=False, na=False).sum()\n",
    "china_article_count = data_df['content'].str.contains('China', case=False, na=False).sum()\n",
    "eu_article_count = data_df['content'].apply(lambda x: any(country in x for country in eu_countries)).sum()\n",
    "russia_article_count = data_df['content'].str.contains('Russia', case=False, na=False).sum()\n",
    "ukraine_article_count = data_df['content'].str.contains('Ukraine', case=False, na=False).sum()\n",
    "middle_east_article_count = data_df['content'].apply(lambda x: any(country in x for country in middle_east_countries)).sum()\n",
    "\n",
    "# Aggregate the article counts for each region\n",
    "region_article_count = {\n",
    "    'Africa': africa_article_count,\n",
    "    'US': us_article_count,\n",
    "    'China': china_article_count,\n",
    "    'EU': eu_article_count,\n",
    "    'Russia': russia_article_count,\n",
    "    'Ukraine': ukraine_article_count,\n",
    "    'Middle East': middle_east_article_count\n",
    "}\n",
    "\n",
    "region_article_count_df = pd.DataFrame(list(region_article_count.items()), columns=['Region', 'ArticleCount'])\n",
    "\n",
    "# Sort and display the top and bottom 10 websites for these regions\n",
    "top_10_region_articles = region_article_count_df.sort_values(by='ArticleCount', ascending=False).head(10)\n",
    "bottom_10_region_articles = region_article_count_df.sort_values(by='ArticleCount', ascending=True).head(10)\n",
    "\n",
    "\n",
    "print(\"\\nTop 10 Regions by Article Count:\")\n",
    "print(top_10_region_articles)\n",
    "\n",
    "print(\"\\nBottom 10 Regions by Article Count:\")\n",
    "print(bottom_10_region_articles)\n",
    "\n"
   ]
  },
  {
   "cell_type": "code",
   "execution_count": 34,
   "metadata": {},
   "outputs": [
    {
     "ename": "KeyboardInterrupt",
     "evalue": "",
     "output_type": "error",
     "traceback": [
      "\u001b[1;31m---------------------------------------------------------------------------\u001b[0m",
      "\u001b[1;31mKeyboardInterrupt\u001b[0m                         Traceback (most recent call last)",
      "Cell \u001b[1;32mIn[34], line 23\u001b[0m\n\u001b[0;32m     21\u001b[0m us_article_count \u001b[38;5;241m=\u001b[39m data_df[\u001b[38;5;124m'\u001b[39m\u001b[38;5;124mcontent\u001b[39m\u001b[38;5;124m'\u001b[39m]\u001b[38;5;241m.\u001b[39mstr\u001b[38;5;241m.\u001b[39mcontains(\u001b[38;5;124m'\u001b[39m\u001b[38;5;124mUS\u001b[39m\u001b[38;5;124m'\u001b[39m, case\u001b[38;5;241m=\u001b[39m\u001b[38;5;28;01mFalse\u001b[39;00m, na\u001b[38;5;241m=\u001b[39m\u001b[38;5;28;01mFalse\u001b[39;00m)\u001b[38;5;241m.\u001b[39msum()\n\u001b[0;32m     22\u001b[0m china_article_count \u001b[38;5;241m=\u001b[39m data_df[\u001b[38;5;124m'\u001b[39m\u001b[38;5;124mcontent\u001b[39m\u001b[38;5;124m'\u001b[39m]\u001b[38;5;241m.\u001b[39mstr\u001b[38;5;241m.\u001b[39mcontains(\u001b[38;5;124m'\u001b[39m\u001b[38;5;124mChina\u001b[39m\u001b[38;5;124m'\u001b[39m, case\u001b[38;5;241m=\u001b[39m\u001b[38;5;28;01mFalse\u001b[39;00m, na\u001b[38;5;241m=\u001b[39m\u001b[38;5;28;01mFalse\u001b[39;00m)\u001b[38;5;241m.\u001b[39msum()\n\u001b[1;32m---> 23\u001b[0m eu_article_count \u001b[38;5;241m=\u001b[39m \u001b[43mdata_df\u001b[49m\u001b[43m[\u001b[49m\u001b[38;5;124;43m'\u001b[39;49m\u001b[38;5;124;43mcontent\u001b[39;49m\u001b[38;5;124;43m'\u001b[39;49m\u001b[43m]\u001b[49m\u001b[38;5;241;43m.\u001b[39;49m\u001b[43mapply\u001b[49m\u001b[43m(\u001b[49m\u001b[38;5;28;43;01mlambda\u001b[39;49;00m\u001b[43m \u001b[49m\u001b[43mx\u001b[49m\u001b[43m:\u001b[49m\u001b[43m \u001b[49m\u001b[38;5;28;43many\u001b[39;49m\u001b[43m(\u001b[49m\u001b[43mcountry\u001b[49m\u001b[43m \u001b[49m\u001b[38;5;129;43;01min\u001b[39;49;00m\u001b[43m \u001b[49m\u001b[43mx\u001b[49m\u001b[43m \u001b[49m\u001b[38;5;28;43;01mfor\u001b[39;49;00m\u001b[43m \u001b[49m\u001b[43mcountry\u001b[49m\u001b[43m \u001b[49m\u001b[38;5;129;43;01min\u001b[39;49;00m\u001b[43m \u001b[49m\u001b[43meu_countries\u001b[49m\u001b[43m)\u001b[49m\u001b[43m)\u001b[49m\u001b[38;5;241m.\u001b[39msum()\n\u001b[0;32m     24\u001b[0m russia_article_count \u001b[38;5;241m=\u001b[39m data_df[\u001b[38;5;124m'\u001b[39m\u001b[38;5;124mcontent\u001b[39m\u001b[38;5;124m'\u001b[39m]\u001b[38;5;241m.\u001b[39mstr\u001b[38;5;241m.\u001b[39mcontains(\u001b[38;5;124m'\u001b[39m\u001b[38;5;124mRussia\u001b[39m\u001b[38;5;124m'\u001b[39m, case\u001b[38;5;241m=\u001b[39m\u001b[38;5;28;01mFalse\u001b[39;00m, na\u001b[38;5;241m=\u001b[39m\u001b[38;5;28;01mFalse\u001b[39;00m)\u001b[38;5;241m.\u001b[39msum()\n\u001b[0;32m     25\u001b[0m ukraine_article_count \u001b[38;5;241m=\u001b[39m data_df[\u001b[38;5;124m'\u001b[39m\u001b[38;5;124mcontent\u001b[39m\u001b[38;5;124m'\u001b[39m]\u001b[38;5;241m.\u001b[39mstr\u001b[38;5;241m.\u001b[39mcontains(\u001b[38;5;124m'\u001b[39m\u001b[38;5;124mUkraine\u001b[39m\u001b[38;5;124m'\u001b[39m, case\u001b[38;5;241m=\u001b[39m\u001b[38;5;28;01mFalse\u001b[39;00m, na\u001b[38;5;241m=\u001b[39m\u001b[38;5;28;01mFalse\u001b[39;00m)\u001b[38;5;241m.\u001b[39msum()\n",
      "File \u001b[1;32mc:\\Users\\araso\\Documents\\10academy\\Week-0\\venv\\lib\\site-packages\\pandas\\core\\series.py:4924\u001b[0m, in \u001b[0;36mSeries.apply\u001b[1;34m(self, func, convert_dtype, args, by_row, **kwargs)\u001b[0m\n\u001b[0;32m   4789\u001b[0m \u001b[38;5;28;01mdef\u001b[39;00m \u001b[38;5;21mapply\u001b[39m(\n\u001b[0;32m   4790\u001b[0m     \u001b[38;5;28mself\u001b[39m,\n\u001b[0;32m   4791\u001b[0m     func: AggFuncType,\n\u001b[1;32m   (...)\u001b[0m\n\u001b[0;32m   4796\u001b[0m     \u001b[38;5;241m*\u001b[39m\u001b[38;5;241m*\u001b[39mkwargs,\n\u001b[0;32m   4797\u001b[0m ) \u001b[38;5;241m-\u001b[39m\u001b[38;5;241m>\u001b[39m DataFrame \u001b[38;5;241m|\u001b[39m Series:\n\u001b[0;32m   4798\u001b[0m \u001b[38;5;250m    \u001b[39m\u001b[38;5;124;03m\"\"\"\u001b[39;00m\n\u001b[0;32m   4799\u001b[0m \u001b[38;5;124;03m    Invoke function on values of Series.\u001b[39;00m\n\u001b[0;32m   4800\u001b[0m \n\u001b[1;32m   (...)\u001b[0m\n\u001b[0;32m   4915\u001b[0m \u001b[38;5;124;03m    dtype: float64\u001b[39;00m\n\u001b[0;32m   4916\u001b[0m \u001b[38;5;124;03m    \"\"\"\u001b[39;00m\n\u001b[0;32m   4917\u001b[0m     \u001b[38;5;28;01mreturn\u001b[39;00m \u001b[43mSeriesApply\u001b[49m\u001b[43m(\u001b[49m\n\u001b[0;32m   4918\u001b[0m \u001b[43m        \u001b[49m\u001b[38;5;28;43mself\u001b[39;49m\u001b[43m,\u001b[49m\n\u001b[0;32m   4919\u001b[0m \u001b[43m        \u001b[49m\u001b[43mfunc\u001b[49m\u001b[43m,\u001b[49m\n\u001b[0;32m   4920\u001b[0m \u001b[43m        \u001b[49m\u001b[43mconvert_dtype\u001b[49m\u001b[38;5;241;43m=\u001b[39;49m\u001b[43mconvert_dtype\u001b[49m\u001b[43m,\u001b[49m\n\u001b[0;32m   4921\u001b[0m \u001b[43m        \u001b[49m\u001b[43mby_row\u001b[49m\u001b[38;5;241;43m=\u001b[39;49m\u001b[43mby_row\u001b[49m\u001b[43m,\u001b[49m\n\u001b[0;32m   4922\u001b[0m \u001b[43m        \u001b[49m\u001b[43margs\u001b[49m\u001b[38;5;241;43m=\u001b[39;49m\u001b[43margs\u001b[49m\u001b[43m,\u001b[49m\n\u001b[0;32m   4923\u001b[0m \u001b[43m        \u001b[49m\u001b[43mkwargs\u001b[49m\u001b[38;5;241;43m=\u001b[39;49m\u001b[43mkwargs\u001b[49m\u001b[43m,\u001b[49m\n\u001b[1;32m-> 4924\u001b[0m \u001b[43m    \u001b[49m\u001b[43m)\u001b[49m\u001b[38;5;241;43m.\u001b[39;49m\u001b[43mapply\u001b[49m\u001b[43m(\u001b[49m\u001b[43m)\u001b[49m\n",
      "File \u001b[1;32mc:\\Users\\araso\\Documents\\10academy\\Week-0\\venv\\lib\\site-packages\\pandas\\core\\apply.py:1427\u001b[0m, in \u001b[0;36mSeriesApply.apply\u001b[1;34m(self)\u001b[0m\n\u001b[0;32m   1424\u001b[0m     \u001b[38;5;28;01mreturn\u001b[39;00m \u001b[38;5;28mself\u001b[39m\u001b[38;5;241m.\u001b[39mapply_compat()\n\u001b[0;32m   1426\u001b[0m \u001b[38;5;66;03m# self.func is Callable\u001b[39;00m\n\u001b[1;32m-> 1427\u001b[0m \u001b[38;5;28;01mreturn\u001b[39;00m \u001b[38;5;28;43mself\u001b[39;49m\u001b[38;5;241;43m.\u001b[39;49m\u001b[43mapply_standard\u001b[49m\u001b[43m(\u001b[49m\u001b[43m)\u001b[49m\n",
      "File \u001b[1;32mc:\\Users\\araso\\Documents\\10academy\\Week-0\\venv\\lib\\site-packages\\pandas\\core\\apply.py:1507\u001b[0m, in \u001b[0;36mSeriesApply.apply_standard\u001b[1;34m(self)\u001b[0m\n\u001b[0;32m   1501\u001b[0m \u001b[38;5;66;03m# row-wise access\u001b[39;00m\n\u001b[0;32m   1502\u001b[0m \u001b[38;5;66;03m# apply doesn't have a `na_action` keyword and for backward compat reasons\u001b[39;00m\n\u001b[0;32m   1503\u001b[0m \u001b[38;5;66;03m# we need to give `na_action=\"ignore\"` for categorical data.\u001b[39;00m\n\u001b[0;32m   1504\u001b[0m \u001b[38;5;66;03m# TODO: remove the `na_action=\"ignore\"` when that default has been changed in\u001b[39;00m\n\u001b[0;32m   1505\u001b[0m \u001b[38;5;66;03m#  Categorical (GH51645).\u001b[39;00m\n\u001b[0;32m   1506\u001b[0m action \u001b[38;5;241m=\u001b[39m \u001b[38;5;124m\"\u001b[39m\u001b[38;5;124mignore\u001b[39m\u001b[38;5;124m\"\u001b[39m \u001b[38;5;28;01mif\u001b[39;00m \u001b[38;5;28misinstance\u001b[39m(obj\u001b[38;5;241m.\u001b[39mdtype, CategoricalDtype) \u001b[38;5;28;01melse\u001b[39;00m \u001b[38;5;28;01mNone\u001b[39;00m\n\u001b[1;32m-> 1507\u001b[0m mapped \u001b[38;5;241m=\u001b[39m \u001b[43mobj\u001b[49m\u001b[38;5;241;43m.\u001b[39;49m\u001b[43m_map_values\u001b[49m\u001b[43m(\u001b[49m\n\u001b[0;32m   1508\u001b[0m \u001b[43m    \u001b[49m\u001b[43mmapper\u001b[49m\u001b[38;5;241;43m=\u001b[39;49m\u001b[43mcurried\u001b[49m\u001b[43m,\u001b[49m\u001b[43m \u001b[49m\u001b[43mna_action\u001b[49m\u001b[38;5;241;43m=\u001b[39;49m\u001b[43maction\u001b[49m\u001b[43m,\u001b[49m\u001b[43m \u001b[49m\u001b[43mconvert\u001b[49m\u001b[38;5;241;43m=\u001b[39;49m\u001b[38;5;28;43mself\u001b[39;49m\u001b[38;5;241;43m.\u001b[39;49m\u001b[43mconvert_dtype\u001b[49m\n\u001b[0;32m   1509\u001b[0m \u001b[43m\u001b[49m\u001b[43m)\u001b[49m\n\u001b[0;32m   1511\u001b[0m \u001b[38;5;28;01mif\u001b[39;00m \u001b[38;5;28mlen\u001b[39m(mapped) \u001b[38;5;129;01mand\u001b[39;00m \u001b[38;5;28misinstance\u001b[39m(mapped[\u001b[38;5;241m0\u001b[39m], ABCSeries):\n\u001b[0;32m   1512\u001b[0m     \u001b[38;5;66;03m# GH#43986 Need to do list(mapped) in order to get treated as nested\u001b[39;00m\n\u001b[0;32m   1513\u001b[0m     \u001b[38;5;66;03m#  See also GH#25959 regarding EA support\u001b[39;00m\n\u001b[0;32m   1514\u001b[0m     \u001b[38;5;28;01mreturn\u001b[39;00m obj\u001b[38;5;241m.\u001b[39m_constructor_expanddim(\u001b[38;5;28mlist\u001b[39m(mapped), index\u001b[38;5;241m=\u001b[39mobj\u001b[38;5;241m.\u001b[39mindex)\n",
      "File \u001b[1;32mc:\\Users\\araso\\Documents\\10academy\\Week-0\\venv\\lib\\site-packages\\pandas\\core\\base.py:921\u001b[0m, in \u001b[0;36mIndexOpsMixin._map_values\u001b[1;34m(self, mapper, na_action, convert)\u001b[0m\n\u001b[0;32m    918\u001b[0m \u001b[38;5;28;01mif\u001b[39;00m \u001b[38;5;28misinstance\u001b[39m(arr, ExtensionArray):\n\u001b[0;32m    919\u001b[0m     \u001b[38;5;28;01mreturn\u001b[39;00m arr\u001b[38;5;241m.\u001b[39mmap(mapper, na_action\u001b[38;5;241m=\u001b[39mna_action)\n\u001b[1;32m--> 921\u001b[0m \u001b[38;5;28;01mreturn\u001b[39;00m \u001b[43malgorithms\u001b[49m\u001b[38;5;241;43m.\u001b[39;49m\u001b[43mmap_array\u001b[49m\u001b[43m(\u001b[49m\u001b[43marr\u001b[49m\u001b[43m,\u001b[49m\u001b[43m \u001b[49m\u001b[43mmapper\u001b[49m\u001b[43m,\u001b[49m\u001b[43m \u001b[49m\u001b[43mna_action\u001b[49m\u001b[38;5;241;43m=\u001b[39;49m\u001b[43mna_action\u001b[49m\u001b[43m,\u001b[49m\u001b[43m \u001b[49m\u001b[43mconvert\u001b[49m\u001b[38;5;241;43m=\u001b[39;49m\u001b[43mconvert\u001b[49m\u001b[43m)\u001b[49m\n",
      "File \u001b[1;32mc:\\Users\\araso\\Documents\\10academy\\Week-0\\venv\\lib\\site-packages\\pandas\\core\\algorithms.py:1743\u001b[0m, in \u001b[0;36mmap_array\u001b[1;34m(arr, mapper, na_action, convert)\u001b[0m\n\u001b[0;32m   1741\u001b[0m values \u001b[38;5;241m=\u001b[39m arr\u001b[38;5;241m.\u001b[39mastype(\u001b[38;5;28mobject\u001b[39m, copy\u001b[38;5;241m=\u001b[39m\u001b[38;5;28;01mFalse\u001b[39;00m)\n\u001b[0;32m   1742\u001b[0m \u001b[38;5;28;01mif\u001b[39;00m na_action \u001b[38;5;129;01mis\u001b[39;00m \u001b[38;5;28;01mNone\u001b[39;00m:\n\u001b[1;32m-> 1743\u001b[0m     \u001b[38;5;28;01mreturn\u001b[39;00m \u001b[43mlib\u001b[49m\u001b[38;5;241;43m.\u001b[39;49m\u001b[43mmap_infer\u001b[49m\u001b[43m(\u001b[49m\u001b[43mvalues\u001b[49m\u001b[43m,\u001b[49m\u001b[43m \u001b[49m\u001b[43mmapper\u001b[49m\u001b[43m,\u001b[49m\u001b[43m \u001b[49m\u001b[43mconvert\u001b[49m\u001b[38;5;241;43m=\u001b[39;49m\u001b[43mconvert\u001b[49m\u001b[43m)\u001b[49m\n\u001b[0;32m   1744\u001b[0m \u001b[38;5;28;01melse\u001b[39;00m:\n\u001b[0;32m   1745\u001b[0m     \u001b[38;5;28;01mreturn\u001b[39;00m lib\u001b[38;5;241m.\u001b[39mmap_infer_mask(\n\u001b[0;32m   1746\u001b[0m         values, mapper, mask\u001b[38;5;241m=\u001b[39misna(values)\u001b[38;5;241m.\u001b[39mview(np\u001b[38;5;241m.\u001b[39muint8), convert\u001b[38;5;241m=\u001b[39mconvert\n\u001b[0;32m   1747\u001b[0m     )\n",
      "File \u001b[1;32mlib.pyx:2972\u001b[0m, in \u001b[0;36mpandas._libs.lib.map_infer\u001b[1;34m()\u001b[0m\n",
      "Cell \u001b[1;32mIn[34], line 23\u001b[0m, in \u001b[0;36m<lambda>\u001b[1;34m(x)\u001b[0m\n\u001b[0;32m     21\u001b[0m us_article_count \u001b[38;5;241m=\u001b[39m data_df[\u001b[38;5;124m'\u001b[39m\u001b[38;5;124mcontent\u001b[39m\u001b[38;5;124m'\u001b[39m]\u001b[38;5;241m.\u001b[39mstr\u001b[38;5;241m.\u001b[39mcontains(\u001b[38;5;124m'\u001b[39m\u001b[38;5;124mUS\u001b[39m\u001b[38;5;124m'\u001b[39m, case\u001b[38;5;241m=\u001b[39m\u001b[38;5;28;01mFalse\u001b[39;00m, na\u001b[38;5;241m=\u001b[39m\u001b[38;5;28;01mFalse\u001b[39;00m)\u001b[38;5;241m.\u001b[39msum()\n\u001b[0;32m     22\u001b[0m china_article_count \u001b[38;5;241m=\u001b[39m data_df[\u001b[38;5;124m'\u001b[39m\u001b[38;5;124mcontent\u001b[39m\u001b[38;5;124m'\u001b[39m]\u001b[38;5;241m.\u001b[39mstr\u001b[38;5;241m.\u001b[39mcontains(\u001b[38;5;124m'\u001b[39m\u001b[38;5;124mChina\u001b[39m\u001b[38;5;124m'\u001b[39m, case\u001b[38;5;241m=\u001b[39m\u001b[38;5;28;01mFalse\u001b[39;00m, na\u001b[38;5;241m=\u001b[39m\u001b[38;5;28;01mFalse\u001b[39;00m)\u001b[38;5;241m.\u001b[39msum()\n\u001b[1;32m---> 23\u001b[0m eu_article_count \u001b[38;5;241m=\u001b[39m data_df[\u001b[38;5;124m'\u001b[39m\u001b[38;5;124mcontent\u001b[39m\u001b[38;5;124m'\u001b[39m]\u001b[38;5;241m.\u001b[39mapply(\u001b[38;5;28;01mlambda\u001b[39;00m x: \u001b[38;5;28;43many\u001b[39;49m\u001b[43m(\u001b[49m\u001b[43mcountry\u001b[49m\u001b[43m \u001b[49m\u001b[38;5;129;43;01min\u001b[39;49;00m\u001b[43m \u001b[49m\u001b[43mx\u001b[49m\u001b[43m \u001b[49m\u001b[38;5;28;43;01mfor\u001b[39;49;00m\u001b[43m \u001b[49m\u001b[43mcountry\u001b[49m\u001b[43m \u001b[49m\u001b[38;5;129;43;01min\u001b[39;49;00m\u001b[43m \u001b[49m\u001b[43meu_countries\u001b[49m\u001b[43m)\u001b[49m)\u001b[38;5;241m.\u001b[39msum()\n\u001b[0;32m     24\u001b[0m russia_article_count \u001b[38;5;241m=\u001b[39m data_df[\u001b[38;5;124m'\u001b[39m\u001b[38;5;124mcontent\u001b[39m\u001b[38;5;124m'\u001b[39m]\u001b[38;5;241m.\u001b[39mstr\u001b[38;5;241m.\u001b[39mcontains(\u001b[38;5;124m'\u001b[39m\u001b[38;5;124mRussia\u001b[39m\u001b[38;5;124m'\u001b[39m, case\u001b[38;5;241m=\u001b[39m\u001b[38;5;28;01mFalse\u001b[39;00m, na\u001b[38;5;241m=\u001b[39m\u001b[38;5;28;01mFalse\u001b[39;00m)\u001b[38;5;241m.\u001b[39msum()\n\u001b[0;32m     25\u001b[0m ukraine_article_count \u001b[38;5;241m=\u001b[39m data_df[\u001b[38;5;124m'\u001b[39m\u001b[38;5;124mcontent\u001b[39m\u001b[38;5;124m'\u001b[39m]\u001b[38;5;241m.\u001b[39mstr\u001b[38;5;241m.\u001b[39mcontains(\u001b[38;5;124m'\u001b[39m\u001b[38;5;124mUkraine\u001b[39m\u001b[38;5;124m'\u001b[39m, case\u001b[38;5;241m=\u001b[39m\u001b[38;5;28;01mFalse\u001b[39;00m, na\u001b[38;5;241m=\u001b[39m\u001b[38;5;28;01mFalse\u001b[39;00m)\u001b[38;5;241m.\u001b[39msum()\n",
      "Cell \u001b[1;32mIn[34], line 23\u001b[0m, in \u001b[0;36m<genexpr>\u001b[1;34m(.0)\u001b[0m\n\u001b[0;32m     21\u001b[0m us_article_count \u001b[38;5;241m=\u001b[39m data_df[\u001b[38;5;124m'\u001b[39m\u001b[38;5;124mcontent\u001b[39m\u001b[38;5;124m'\u001b[39m]\u001b[38;5;241m.\u001b[39mstr\u001b[38;5;241m.\u001b[39mcontains(\u001b[38;5;124m'\u001b[39m\u001b[38;5;124mUS\u001b[39m\u001b[38;5;124m'\u001b[39m, case\u001b[38;5;241m=\u001b[39m\u001b[38;5;28;01mFalse\u001b[39;00m, na\u001b[38;5;241m=\u001b[39m\u001b[38;5;28;01mFalse\u001b[39;00m)\u001b[38;5;241m.\u001b[39msum()\n\u001b[0;32m     22\u001b[0m china_article_count \u001b[38;5;241m=\u001b[39m data_df[\u001b[38;5;124m'\u001b[39m\u001b[38;5;124mcontent\u001b[39m\u001b[38;5;124m'\u001b[39m]\u001b[38;5;241m.\u001b[39mstr\u001b[38;5;241m.\u001b[39mcontains(\u001b[38;5;124m'\u001b[39m\u001b[38;5;124mChina\u001b[39m\u001b[38;5;124m'\u001b[39m, case\u001b[38;5;241m=\u001b[39m\u001b[38;5;28;01mFalse\u001b[39;00m, na\u001b[38;5;241m=\u001b[39m\u001b[38;5;28;01mFalse\u001b[39;00m)\u001b[38;5;241m.\u001b[39msum()\n\u001b[1;32m---> 23\u001b[0m eu_article_count \u001b[38;5;241m=\u001b[39m data_df[\u001b[38;5;124m'\u001b[39m\u001b[38;5;124mcontent\u001b[39m\u001b[38;5;124m'\u001b[39m]\u001b[38;5;241m.\u001b[39mapply(\u001b[38;5;28;01mlambda\u001b[39;00m x: \u001b[38;5;28many\u001b[39m(country \u001b[38;5;129;01min\u001b[39;00m x \u001b[38;5;28;01mfor\u001b[39;00m country \u001b[38;5;129;01min\u001b[39;00m eu_countries))\u001b[38;5;241m.\u001b[39msum()\n\u001b[0;32m     24\u001b[0m russia_article_count \u001b[38;5;241m=\u001b[39m data_df[\u001b[38;5;124m'\u001b[39m\u001b[38;5;124mcontent\u001b[39m\u001b[38;5;124m'\u001b[39m]\u001b[38;5;241m.\u001b[39mstr\u001b[38;5;241m.\u001b[39mcontains(\u001b[38;5;124m'\u001b[39m\u001b[38;5;124mRussia\u001b[39m\u001b[38;5;124m'\u001b[39m, case\u001b[38;5;241m=\u001b[39m\u001b[38;5;28;01mFalse\u001b[39;00m, na\u001b[38;5;241m=\u001b[39m\u001b[38;5;28;01mFalse\u001b[39;00m)\u001b[38;5;241m.\u001b[39msum()\n\u001b[0;32m     25\u001b[0m ukraine_article_count \u001b[38;5;241m=\u001b[39m data_df[\u001b[38;5;124m'\u001b[39m\u001b[38;5;124mcontent\u001b[39m\u001b[38;5;124m'\u001b[39m]\u001b[38;5;241m.\u001b[39mstr\u001b[38;5;241m.\u001b[39mcontains(\u001b[38;5;124m'\u001b[39m\u001b[38;5;124mUkraine\u001b[39m\u001b[38;5;124m'\u001b[39m, case\u001b[38;5;241m=\u001b[39m\u001b[38;5;28;01mFalse\u001b[39;00m, na\u001b[38;5;241m=\u001b[39m\u001b[38;5;28;01mFalse\u001b[39;00m)\u001b[38;5;241m.\u001b[39msum()\n",
      "\u001b[1;31mKeyboardInterrupt\u001b[0m: "
     ]
    }
   ],
   "source": [
    "# 6. Websites with the Highest Count of Sentiments\n",
    "# Group data by source_name and calculate descriptive statistics\n",
    "sentiment_stats = rating_df.groupby('source_name')['title_sentiment'].agg(['mean', 'median', 'var', 'count'])\n",
    "\n",
    "# Top 10 domains by visitor traffic\n",
    "top_10_domains = traffic_data_df.sort_values(by='GlobalRank').head(10)['Domain']\n",
    "\n",
    "# Sentiment distribution for top 10 domains by traffic\n",
    "top_10_sentiment_distribution = rating_df[rating_df['source_name'].isin(top_10_domains)].groupby('source_name')['title_sentiment'].describe()\n",
    "\n",
    "# Global sentiment distribution\n",
    "global_sentiment_distribution = rating_df['title_sentiment'].describe()\n",
    "\n",
    "print(\"\\nWebsites with the Highest Count of Sentiments (Mean, Median, Variance):\")\n",
    "print(sentiment_stats.sort_values(by='count', ascending=False).head(10))\n",
    "\n",
    "print(\"\\nSentiment Distribution for Top 10 Domains by Traffic:\")\n",
    "print(top_10_sentiment_distribution)\n",
    "\n",
    "print(\"\\nGlobal Sentiment Distribution:\")\n",
    "print(global_sentiment_distribution)"
   ]
  }
 ],
 "metadata": {
  "kernelspec": {
   "display_name": "Python 3",
   "language": "python",
   "name": "python3"
  },
  "language_info": {
   "codemirror_mode": {
    "name": "ipython",
    "version": 3
   },
   "file_extension": ".py",
   "mimetype": "text/x-python",
   "name": "python",
   "nbconvert_exporter": "python",
   "pygments_lexer": "ipython3",
   "version": "3.10.10"
  }
 },
 "nbformat": 4,
 "nbformat_minor": 4
}
